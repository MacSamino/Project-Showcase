{
 "cells": [
  {
   "cell_type": "markdown",
   "id": "f42c7e9f",
   "metadata": {},
   "source": [
    "#### - Reverse Sort"
   ]
  },
  {
   "cell_type": "code",
   "execution_count": 1,
   "id": "c98fda96",
   "metadata": {},
   "outputs": [
    {
     "data": {
      "text/plain": [
       "[777, 111, 66.6, 44.4, 22, 5, 4, 3]"
      ]
     },
     "execution_count": 1,
     "metadata": {},
     "output_type": "execute_result"
    }
   ],
   "source": [
    "def linear_search(arr):\n",
    "    #Initialize current best to +infinity\n",
    "    # so any elements will beat it\n",
    "    current_max = float('-inf')\n",
    "    current_max_idx = 0\n",
    "    for i in range(len(arr)):\n",
    "        #print(current_max)\n",
    "        if arr[i] > current_max:\n",
    "            current_max = arr[i]\n",
    "            current_max_idx = i\n",
    "    return current_max_idx\n",
    "\n",
    "def selection_sort_reverse(arr):\n",
    "    \"\"\"Selection sort\"\"\"\n",
    "    n_sorted = 0 #Counter that will turn while statement off after set len()\n",
    "    while n_sorted < len(arr):\n",
    "        #Get the index of the min of the remaining elements\n",
    "        # since argsort returns the base on array, we correct results\n",
    "        # with `+ n_sorted`\n",
    "        min_idx = linear_search(arr[n_sorted:]) + n_sorted\n",
    "        #print(min_idx)\n",
    "        #print(arr[n_sorted:])\n",
    "        #Swap minimum element with left most remaining element\n",
    "        to_swap = arr[n_sorted]\n",
    "        arr[n_sorted] = arr[min_idx]\n",
    "        arr[min_idx] = to_swap\n",
    "        # Inrement and restart\n",
    "        n_sorted += 1\n",
    "    return arr\n",
    "\n",
    "\n",
    "arr = [111,4,3,22,5,44.4,66.6,777]\n",
    "selection_sort_reverse(arr)\n",
    "\n"
   ]
  },
  {
   "cell_type": "markdown",
   "id": "c06d78e8",
   "metadata": {},
   "source": [
    "#### - Two Sum"
   ]
  },
  {
   "cell_type": "code",
   "execution_count": 2,
   "id": "334c76b7",
   "metadata": {},
   "outputs": [
    {
     "name": "stdout",
     "output_type": "stream",
     "text": [
      "False\n",
      "True\n"
     ]
    }
   ],
   "source": [
    "#brute force ver.\n",
    "def two_sum(arr,N):\n",
    "    _list = []\n",
    "    for i in range(len(arr)):\n",
    "        for j in range(len(arr)):\n",
    "            if i != j:\n",
    "                res = arr[i]+arr[j]\n",
    "                _list.append(res)\n",
    "    return True if N in _list else False\n",
    "               \n",
    "print (two_sum([3, 4, 6], 6))\n",
    "print (two_sum([1, 2, 3, 4], 5))"
   ]
  },
  {
   "cell_type": "code",
   "execution_count": 4,
   "id": "ec447940",
   "metadata": {},
   "outputs": [
    {
     "name": "stdout",
     "output_type": "stream",
     "text": [
      "False\n",
      "True\n"
     ]
    }
   ],
   "source": [
    "#O(n) ver.\n",
    "def two_sum_speed(arr,N):\n",
    "    for i in range(len(arr)):\n",
    "        temp_list = arr[:]\n",
    "        temp_list.remove(arr[i])\n",
    "        if N - arr[i] in temp_list:\n",
    "            return True\n",
    "        \n",
    "        else:\n",
    "            return False\n",
    "\n",
    "print (two_sum_speed([3, 4, 6], 6))\n",
    "print (two_sum_speed([1, 2, 3, 4], 5))"
   ]
  },
  {
   "cell_type": "markdown",
   "id": "8de763e9",
   "metadata": {},
   "source": [
    "#### - Linked Lists"
   ]
  },
  {
   "cell_type": "code",
   "execution_count": 5,
   "id": "e4d9bc5b",
   "metadata": {},
   "outputs": [
    {
     "name": "stdout",
     "output_type": "stream",
     "text": [
      "3 -> cat -> dog -> 55 -> 56\n"
     ]
    }
   ],
   "source": [
    "class Node:\n",
    "    def __init__(self,value, nextNode = None):\n",
    "        self.value = value \n",
    "        self.nextNode = nextNode\n",
    "n1 = Node('3')\n",
    "n2 = Node('cat')\n",
    "n3 = Node('dog')\n",
    "n4 = Node('55')\n",
    "n5 = Node('56')\n",
    "\n",
    "n1.nextNode = n2\n",
    "n2.nextNode = n3\n",
    "n3.nextNode = n4\n",
    "n4.nextNode = n5\n",
    "\n",
    "rootnode = n1\n",
    "\n",
    "list_ = []\n",
    "while True:\n",
    "    list_.append(rootnode.value),\n",
    "    if rootnode.nextNode is None:\n",
    "        break\n",
    "    rootnode = rootnode.nextNode\n",
    "print(' -> '.join(list_))"
   ]
  },
  {
   "cell_type": "markdown",
   "id": "d2c26814",
   "metadata": {},
   "source": [
    "#### - Recursive sum"
   ]
  },
  {
   "cell_type": "code",
   "execution_count": 6,
   "id": "a1102723",
   "metadata": {},
   "outputs": [
    {
     "data": {
      "text/plain": [
       "24"
      ]
     },
     "execution_count": 6,
     "metadata": {},
     "output_type": "execute_result"
    }
   ],
   "source": [
    "def rec_sum(arr):\n",
    "    n = 0\n",
    "    if len(arr) == 1:\n",
    "        return arr[0]\n",
    "    else: \n",
    "        return arr[0] + rec_sum(arr[1:])\n",
    "\n",
    "rec_sum([2, 4, 5, 6, 7])"
   ]
  },
  {
   "cell_type": "markdown",
   "id": "51f419d6",
   "metadata": {},
   "source": [
    "#### - Recursive Power"
   ]
  },
  {
   "cell_type": "code",
   "execution_count": 7,
   "id": "0ee8394b",
   "metadata": {},
   "outputs": [
    {
     "data": {
      "text/plain": [
       "81"
      ]
     },
     "execution_count": 7,
     "metadata": {},
     "output_type": "execute_result"
    }
   ],
   "source": [
    "def rec_pow(a,b):\n",
    "    if b <= 0:\n",
    "        return 1\n",
    "    if b > 0:\n",
    "        return a * rec_pow(a,b-1)  \n",
    "\n",
    "rec_pow(3,4)   "
   ]
  },
  {
   "cell_type": "markdown",
   "id": "56f77b05",
   "metadata": {},
   "source": [
    "#### - Knapsack"
   ]
  },
  {
   "cell_type": "code",
   "execution_count": 8,
   "id": "24b7742e",
   "metadata": {},
   "outputs": [
    {
     "name": "stdout",
     "output_type": "stream",
     "text": [
      "[1, 2, 5, 9]\n",
      "17\n"
     ]
    }
   ],
   "source": [
    "def knapsack(S, T):\n",
    "    K = [] \n",
    "    for i in range(len(S)):\n",
    "        if int(sum(K)) + int(S[i]) <= T:\n",
    "            K.append(S[i])\n",
    "        else:\n",
    "            print(K)\n",
    "            print(sum(K))\n",
    "\n",
    "S = [1,2,5,9,10]\n",
    "T = 22\n",
    "knapsack(S, T)"
   ]
  },
  {
   "cell_type": "markdown",
   "id": "13acb667",
   "metadata": {},
   "source": [
    "## Generating correct change\n",
    "\n",
    "Now, we will be making change using the fewest coins. \n",
    "\n",
    "Suppose you are a programmer for a vending machine manufacturer. Your company wants to streamline effort by giving out the fewest possible coins in change for each transaction. Suppose a customer puts in a dollar bill and purchases an item for 37 cents. What is the smallest number of coins you can use to make change? The answer is six coins: two quarters, one dime, and three pennies. \n",
    "\n",
    "How did we arrive at the answer of six coins? We start with the largest coin in our arsenal (a quarter) and use as many of those as possible, then we go to the next lowest coin value and use as many of those as possible. This is the greedy algorithm for change-making.\n",
    "\n",
    "**Question:** Write the greedy algorithm for change making.\n",
    "\n",
    "The input is the amount of change to generate (in pennies) and a list of coin sizes (in pennies)\n",
    "\n",
    "The output is the minimum number of coins to gener\n",
    "\n",
    "```\n",
    "# buys with 1 dollar for 37 pennies\n",
    "# Second argument says we can give quarters, dimes, nickels and pennies\n",
    "make_change(100 - 37, [25, 10, 5, 1])\n",
    "\n",
    "# 2 quarters, one dime, and three pennies\n",
    "output --> 6 # Output would be equivalent to the choices [2, 1, 0, 3]\n",
    "```"
   ]
  },
  {
   "cell_type": "code",
   "execution_count": 9,
   "id": "86601843",
   "metadata": {},
   "outputs": [
    {
     "data": {
      "text/plain": [
       "[2, 1, 0, 3]"
      ]
     },
     "execution_count": 9,
     "metadata": {},
     "output_type": "execute_result"
    }
   ],
   "source": [
    "def make_change(amount,coins=[25, 10, 5, 1]):\n",
    "    temp = amount\n",
    "    result = [0]*len(coins)\n",
    "    count = 0\n",
    "    _ind = 0\n",
    "    coin_amnt = len(coins) - count\n",
    "    \n",
    "    while True:\n",
    "        if temp == 0:\n",
    "            return result\n",
    "        elif temp < coins[_ind]:\n",
    "            _ind += 1\n",
    "        else:\n",
    "            while temp >= coins[_ind]:\n",
    "                result[_ind] += 1\n",
    "                temp = temp - coins[_ind]\n",
    "                #print(temp,coins[_ind])\n",
    "        \n",
    "make_change(100 - 37)"
   ]
  },
  {
   "cell_type": "code",
   "execution_count": 12,
   "id": "9a4386e8",
   "metadata": {},
   "outputs": [
    {
     "data": {
      "text/plain": [
       "[3, 0, 1, 2]"
      ]
     },
     "execution_count": 12,
     "metadata": {},
     "output_type": "execute_result"
    }
   ],
   "source": [
    "#recursive ver.\n",
    "def make_change(amount,coins,id_,result =[0,0,0,0]):\n",
    "    temp = amount\n",
    "    if amount == 0 or id_ < 0:\n",
    "        return result\n",
    "    \n",
    "    if coins[id_- 1]> amount:\n",
    "        return make_change(amount,coins,id_-1)\n",
    "    \n",
    "    else:\n",
    "        while temp >= coins[id_-1]:\n",
    "            result[id_-1] += 1\n",
    "            temp = temp - coins[id_-1]\n",
    "        return make_change(temp,coins,id_-1,result)\n",
    "\n",
    "\n",
    "\n",
    "\n",
    "amount = 100 - 37\n",
    "coins = [1,5,10,25]\n",
    "\n",
    "make_change(amount,coins,len(coins))"
   ]
  },
  {
   "cell_type": "code",
   "execution_count": null,
   "id": "862f795a",
   "metadata": {},
   "outputs": [],
   "source": []
  }
 ],
 "metadata": {
  "kernelspec": {
   "display_name": "Python 3",
   "language": "python",
   "name": "python3"
  },
  "language_info": {
   "codemirror_mode": {
    "name": "ipython",
    "version": 3
   },
   "file_extension": ".py",
   "mimetype": "text/x-python",
   "name": "python",
   "nbconvert_exporter": "python",
   "pygments_lexer": "ipython3",
   "version": "3.8.8"
  }
 },
 "nbformat": 4,
 "nbformat_minor": 5
}
