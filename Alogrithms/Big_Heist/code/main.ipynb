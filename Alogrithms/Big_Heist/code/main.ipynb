{
 "cells": [
  {
   "cell_type": "code",
   "execution_count": 4,
   "metadata": {},
   "outputs": [
    {
     "name": "stdout",
     "output_type": "stream",
     "text": [
      "C:\\Users\\allis\\Desktop\\Data Science\\Project Showcase\\Alogrithms\\Big_Heist\\data\n"
     ]
    }
   ],
   "source": [
    "cd C:\\Users\\allis\\Desktop\\Data Science\\Project Showcase\\Alogrithms\\Big_Heist\\data"
   ]
  },
  {
   "cell_type": "code",
   "execution_count": 5,
   "metadata": {},
   "outputs": [],
   "source": [
    "import math\n",
    "\n",
    "\n",
    "def distance(x1, y1, x2, y2):\n",
    "    return math.hypot(x2 - x1, y2 - y1)\n",
    "\n",
    "def check_solution(travel_list, df, speed=30.):\n",
    "    \"\"\"\n",
    "    Check a bank robber algorithm solution\n",
    "    \n",
    "    input:\n",
    "    ------\n",
    "    travel_list: a list of integers\n",
    "        Your solution to the bank robber problem\n",
    "        Bank IDs are row indeces into the df passed\n",
    "    df: pd.DataFrame\n",
    "        The algorithm input formatted dataframe \n",
    "        (id,x_coordinate,y_coordinate,money,time (hr))\n",
    "    speed: float\n",
    "        The km/h speed of travel\n",
    "    \"\"\"\n",
    "    t_remaining = 24.\n",
    "    score = 0.\n",
    "    assert len(travel_list) == len(set(travel_list)), (\n",
    "        \"Your travel list must have unique IDs!\"\n",
    "    )\n",
    "    prev = travel_list[0]\n",
    "    for e in travel_list:\n",
    "        row = df.iloc[e]\n",
    "        score += row['money']\n",
    "        t_remaining -= row['time (hr)']\n",
    "        dist = distance(\n",
    "            row['x_coordinate'], row['y_coordinate'],\n",
    "            df.iloc[prev]['x_coordinate'],\n",
    "            df.iloc[prev]['y_coordinate'],\n",
    "        )\n",
    "        t_remaining -= dist / speed\n",
    "        prev = e\n",
    "    assert t_remaining >= 0, (\n",
    "        f\"Used more than 24h! Time left: {t_remaining}\"\n",
    "    )\n",
    "    # still gotta get to (0, 0)\n",
    "    dist = distance(row['x_coordinate'],row['y_coordinate'],0,0)\n",
    "    final_t = t_remaining - (dist / speed)\n",
    "    assert final_t >= 0, (\n",
    "        f\"Not enough time to get to helicopter!\\n\"\n",
    "        f\"Time left after last bank: {t_remaining}\\n\"\n",
    "        f\"Distance to (0,0) helipad: {dist}\\n\"\n",
    "    )\n",
    "    print(f\"Time Remaining: {final_t}\")\n",
    "    return score"
   ]
  },
  {
   "cell_type": "markdown",
   "metadata": {},
   "source": [
    "Checklist\n",
    "\n",
    "- Steal as much money as possible within 24h. \n",
    "\n",
    "- Must return to helicopter (0,0)\n",
    "\n",
    "- Function must output bank IDs\n",
    "\n",
    "- Our top speed is 30km/h\n",
    "\n",
    "- Start at the most $$$ bank\n"
   ]
  },
  {
   "cell_type": "code",
   "execution_count": 6,
   "metadata": {},
   "outputs": [
    {
     "name": "stdout",
     "output_type": "stream",
     "text": [
      "<class 'pandas.core.frame.DataFrame'>\n",
      "RangeIndex: 10000 entries, 0 to 9999\n",
      "Data columns (total 5 columns):\n",
      " #   Column        Non-Null Count  Dtype  \n",
      "---  ------        --------------  -----  \n",
      " 0   id            10000 non-null  int64  \n",
      " 1   x_coordinate  10000 non-null  float64\n",
      " 2   y_coordinate  10000 non-null  float64\n",
      " 3   money         10000 non-null  int64  \n",
      " 4   time (hr)     10000 non-null  float64\n",
      "dtypes: float64(3), int64(2)\n",
      "memory usage: 390.8 KB\n"
     ]
    }
   ],
   "source": [
    "import pandas as pd \n",
    "import numpy as np \n",
    "import seaborn as sns\n",
    "df = pd.read_csv('bank_data.csv')#.head(500) #Dont forget to make it normal size after\n",
    "df.info()\n",
    "#sns.scatterplot(data=df , x ='x_coordinate',y= 'y_coordinate', alpha = 0.4 )"
   ]
  },
  {
   "cell_type": "code",
   "execution_count": 7,
   "metadata": {},
   "outputs": [
    {
     "name": "stdout",
     "output_type": "stream",
     "text": [
      "remaining_time :0.00021606857764822074\n",
      "[4848, 5933, 7560, 487, 7343, 3193, 6468, 4762, 299, 2331, 4499, 8525, 9653, 4287, 6528, 8690, 4757, 4789, 4696, 7064, 8436, 6097, 8287, 3798, 3516, 433, 9546, 3613, 7544, 9241, 2928, 9378, 5296, 8469, 2346, 2741, 9049, 8966, 9401, 3297, 8206, 2656, 9736, 5155, 4627, 4492, 6535, 2190, 8562, 3914, 5135, 951, 1372, 58, 5610, 9195, 4987, 5562, 4906, 7087, 6281, 7074, 7258, 6740, 2729, 7701, 7764, 3026, 1757, 8355, 7689, 7877, 4605, 6104, 613, 5719, 8375, 3605, 1455, 6254, 557, 7595, 9881, 670, 9275, 9469, 2590, 5381, 5126, 6156, 1397, 8909, 7625, 7769, 2, 7801, 5627, 4610, 6317, 5622, 517, 9290, 7265, 8908, 1447, 5356, 7531, 1997, 6759, 781, 6216, 3186, 4234, 2028, 8125, 9779, 2243, 1976, 3466, 865, 444, 7583, 3005, 9583, 524, 9228, 4807, 3089, 7665, 5166, 8231, 8846, 9640, 2626, 6022, 5298, 507, 7772, 2472, 70, 1684, 790, 4494, 3585, 488, 2226, 9880, 5563, 5971, 7494, 2639, 6375, 754, 359, 1966, 3971, 3340, 6478, 2458, 6987, 9120, 4345, 5184, 757, 4036, 4056, 9908, 8849, 1193, 1599, 3136, 4175, 664, 7649, 8169, 9928, 4214, 9460, 1357, 2657, 8890, 6653, 8503, 2827, 8407, 1860, 1844, 4293, 3025, 2344, 839, 9804, 5631, 7907, 5440, 5944, 6934, 8949, 2162, 6169, 3803, 8022, 2037, 6712, 5295, 1914, 4983, 8703, 2521, 2643, 5474, 8829, 4362, 3239, 8288, 4742, 1676, 3216, 6591, 1053, 3484, 2425, 6898, 1304, 6520, 5247, 6876, 9455, 9130, 279, 2185, 7744, 4274]\n"
     ]
    }
   ],
   "source": [
    "def distancebetween(X1,Y1,X2=0,Y2=0):\n",
    "    return np.sqrt((X2-X1)**2 + (Y2-Y1)**2)\n",
    "\n",
    "heistlist = []\n",
    "time_left = 24\n",
    "#setting up the first bank\n",
    "rich_bankid = df.money.idxmax()                                 #finds most expensive bank \n",
    "heistlist.append(rich_bankid)                                   #adds most expesive bank to list\n",
    "X = float(df['x_coordinate'].loc[df.index == rich_bankid])\n",
    "Y = float(df['y_coordinate'].loc[df.index == rich_bankid])\n",
    "first_time = float(df['time (hr)'].loc[df.index == rich_bankid]) #robbery time for first bank\n",
    "time_left -= first_time                                          #removes time to rob first bank \n",
    "main_heli_dist = distancebetween(X,Y)                            #distance from helicopter\n",
    "\n",
    "temp_df = df.copy()\n",
    "temp_df.drop(int(rich_bankid),axis=0,inplace = True) #drops first bank\n",
    "\n",
    "temp_df['distbetween'] = distancebetween(temp_df['x_coordinate'],temp_df['y_coordinate'],X,Y) #finds distance between first point \n",
    "temp_df['travel_time'] = temp_df['distbetween']/30 #calculates travel_time\n",
    "temp_df['money/h'] = temp_df['money']/(temp_df['time (hr)']+temp_df['travel_time']) #money per hour value of each bank from current bank\n",
    "temp_df['total_time'] = temp_df['time (hr)']+temp_df['travel_time']\n",
    "temp_df['heli_time'] = (distancebetween(temp_df['x_coordinate'],temp_df['y_coordinate']))/30\n",
    "\n",
    "while time_left > 0:\n",
    "    if temp_df.empty:  #If df empty then stop \n",
    "        remaining_time = time_left - escape_time\n",
    "        print(f'remaining_time :{remaining_time}')\n",
    "        print(heistlist)\n",
    "        break\n",
    "\n",
    "    next_bankid = temp_df['money/h'].idxmax()             #finds next bank\n",
    "    time_taken = float(temp_df['total_time'].loc[temp_df.index == next_bankid])\n",
    "    \n",
    "    if time_left - (time_taken + float(temp_df['heli_time'].loc[temp_df.index == next_bankid]))< 0: #checks if there is enough time to escape\n",
    "        temp_df.drop(int(next_bankid),axis=0,inplace = True) \n",
    "        \n",
    "\n",
    "    else:\n",
    "        heistlist.append(next_bankid)          #adds next bank\n",
    "        time_left -= time_taken                #takes time off\n",
    "        X = float(temp_df['x_coordinate'].loc[temp_df.index == next_bankid])        #change new start variable\n",
    "        Y = float(temp_df['y_coordinate'].loc[temp_df.index == next_bankid])\n",
    "        escape_time = float(temp_df['heli_time'].loc[temp_df.index == next_bankid]) #Counts total time taken for if statement ^\n",
    "\n",
    "        temp_df.drop(int(next_bankid),axis=0,inplace = True)                        #drops next bank\n",
    "\n",
    "        #Update temp_df with new starting point\n",
    "        temp_df['distbetween'] = distancebetween(temp_df['x_coordinate'],temp_df['y_coordinate'],X,Y) #finds distance between the next point  \n",
    "        temp_df['travel_time'] = temp_df['distbetween']/30\n",
    "        temp_df['money/h'] = temp_df['money']/(temp_df['time (hr)']+temp_df['travel_time'])\n",
    "        temp_df['total_time'] = temp_df['time (hr)']+temp_df['travel_time']"
   ]
  },
  {
   "cell_type": "code",
   "execution_count": 8,
   "metadata": {},
   "outputs": [
    {
     "name": "stdout",
     "output_type": "stream",
     "text": [
      "Time Remaining: 0.00021606857763817322\n"
     ]
    },
    {
     "data": {
      "text/plain": [
       "13746500.0"
      ]
     },
     "execution_count": 8,
     "metadata": {},
     "output_type": "execute_result"
    }
   ],
   "source": [
    "check_solution(heistlist, df, speed=30.)"
   ]
  },
  {
   "cell_type": "code",
   "execution_count": null,
   "metadata": {},
   "outputs": [],
   "source": []
  }
 ],
 "metadata": {
  "interpreter": {
   "hash": "57c4dbb94661a976730113afd48c530688c112c069e725add353a90d52985f78"
  },
  "kernelspec": {
   "display_name": "Python 3",
   "language": "python",
   "name": "python3"
  },
  "language_info": {
   "codemirror_mode": {
    "name": "ipython",
    "version": 3
   },
   "file_extension": ".py",
   "mimetype": "text/x-python",
   "name": "python",
   "nbconvert_exporter": "python",
   "pygments_lexer": "ipython3",
   "version": "3.8.8"
  }
 },
 "nbformat": 4,
 "nbformat_minor": 2
}
